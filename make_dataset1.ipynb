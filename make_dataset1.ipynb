{
 "cells": [
  {
   "cell_type": "code",
   "execution_count": 1,
   "id": "dd9a97ca",
   "metadata": {
    "pycharm": {
     "name": "#%%\n"
    }
   },
   "outputs": [],
   "source": [
    "import os\n",
    "import numpy as np\n",
    "import cv2\n",
    "import mediapipe as mp\n",
    "import time\n",
    "from sklearn.model_selection import train_test_split"
   ]
  },
  {
   "cell_type": "code",
   "execution_count": 2,
   "id": "db5d5d1c",
   "metadata": {
    "pycharm": {
     "name": "#%%\n"
    }
   },
   "outputs": [],
   "source": [
    "import sys  \n",
    "sys.path.insert(0, './')\n",
    "from pose_media import mediapipe_pose"
   ]
  },
  {
   "cell_type": "code",
   "execution_count": 3,
   "id": "5e48597a",
   "metadata": {
    "pycharm": {
     "name": "#%%\n"
    }
   },
   "outputs": [],
   "source": [
    "#存放读取视频后frame的路径\n",
    "DATA_PATH = \"./DATA/\"\n",
    "if not os.path.exists(DATA_PATH):\n",
    "    os.mkdir(DATA_PATH)   "
   ]
  },
  {
   "cell_type": "code",
   "execution_count": 4,
   "id": "e4998dc9",
   "metadata": {
    "pycharm": {
     "name": "#%%\n"
    }
   },
   "outputs": [],
   "source": [
    "mp = mediapipe_pose()"
   ]
  },
  {
   "cell_type": "code",
   "execution_count": 5,
   "id": "41012635",
   "metadata": {
    "pycharm": {
     "name": "#%%\n"
    }
   },
   "outputs": [],
   "source": [
    "cTime,pTime = 0,0"
   ]
  },
  {
   "cell_type": "code",
   "execution_count": 6,
   "id": "25f5aeef",
   "metadata": {
    "pycharm": {
     "name": "#%%\n"
    }
   },
   "outputs": [],
   "source": [
    "sequence_length = 30\n",
    "#存档视频的路径\n",
    "path = \"./video/\"\n",
    "actions = os.listdir(path)\n",
    "for action in actions:\n",
    "    if not os.path.exists(DATA_PATH+action):\n",
    "        os.mkdir(DATA_PATH+action)\n",
    "    video_list = os.listdir(path+action)\n",
    "    no_sequences = 1776//len(video_list)\n",
    "    extra_sequences = 1776%len(video_list)\n",
    "    for video in range(len(video_list)):\n",
    "        cd = os.path.join(path+ action+\"/\" + video_list[video])\n",
    "        cap = cv2.VideoCapture(cd)\n",
    "        with mp.mp_holistic.Holistic(min_detection_confidence=0.5, min_tracking_confidence=0.5) as holistic:\n",
    "            if video < extra_sequences:\n",
    "                no_sequences += 1\n",
    "                pre_sequences = video * no_sequences \n",
    "            elif video == extra_sequences:\n",
    "                pre_sequences = video * (no_sequences +1)\n",
    "            else:\n",
    "                pre_sequences = extra_sequences * (no_sequences +1) + (video - extra_sequences)*no_sequences\n",
    "            for sequence in range(no_sequences):\n",
    "                if not os.path.exists(DATA_PATH+action+\"/\"+str(pre_sequences+sequence)):\n",
    "                    os.mkdir(DATA_PATH+action+\"/\"+str(pre_sequences+sequence))\n",
    "                for frame_num in range(sequence_length):\n",
    "                        ref,frame = cap.read()\n",
    "                        try:\n",
    "                            image, results = mp.mediapipe_detection(frame, holistic)\n",
    "                        except:\n",
    "                            break\n",
    "                            \n",
    "                        mp.draw_styled_landmarks(image, results)\n",
    "                        cTime = time.time()\n",
    "                        fps = 1 / (cTime - pTime)\n",
    "                        pTime = cTime\n",
    "                        cv2.putText(image,\"FPS:\" +str(int(fps)),(10,100), cv2.FONT_HERSHEY_PLAIN, 2,(255,0,190),2,cv2.LINE_AA)\n",
    "\n",
    "                        if frame_num == 0: \n",
    "                            cv2.putText(image, 'Collecting frames for {} Video Number {}'.format(action, video), (5,15), \n",
    "                                              cv2.FONT_HERSHEY_SIMPLEX, 0.3, (0, 0, 255), 1, cv2.LINE_AA)\n",
    "                            cv2.imshow('OpenCV Feed', image)\n",
    "                        else: \n",
    "                            cv2.putText(image, 'Collecting frames for {} Video Number {}'.format(action,video), (5,15), \n",
    "                                            cv2.FONT_HERSHEY_SIMPLEX, 0.3, (0, 0, 255), 1, cv2.LINE_AA)\n",
    "                            cv2.imshow('OpenCV Feed', image)\n",
    "\n",
    "                        keypoints = mp.extract_keypoints(results)\n",
    "                        npy_path = os.path.join(DATA_PATH, action, str(pre_sequences+sequence), str(frame_num))\n",
    "                        np.save(npy_path, keypoints)\n",
    "                        if cv2.waitKey(1) & 0xFF == ord(\"q\"):\n",
    "                            break\n",
    "cap.release()\n",
    "cv2.destroyAllWindows()"
   ]
  },
  {
   "cell_type": "code",
   "execution_count": 7,
   "id": "0a109293",
   "metadata": {
    "pycharm": {
     "name": "#%%\n"
    }
   },
   "outputs": [],
   "source": [
    "DATA_PATH = os.path.join('DATA')\n",
    "actions = np.array([\"bend\",\"jump\",\"walk\"])\n",
    "no_sequences = 1776\n",
    "sequence_length = 30"
   ]
  },
  {
   "cell_type": "code",
   "execution_count": 8,
   "id": "a391b6d5",
   "metadata": {
    "pycharm": {
     "name": "#%%\n"
    }
   },
   "outputs": [
    {
     "data": {
      "text/plain": "{'bend': 0, 'jump': 1, 'walk': 2}"
     },
     "execution_count": 8,
     "metadata": {},
     "output_type": "execute_result"
    }
   ],
   "source": [
    "label_map = {label:num for num,label in enumerate(actions)}\n",
    "label_map"
   ]
  },
  {
   "cell_type": "code",
   "execution_count": 11,
   "id": "597f1c5f",
   "metadata": {
    "pycharm": {
     "name": "#%%\n"
    }
   },
   "outputs": [],
   "source": [
    "def load_data(actions,no_sequences,sequence_length):\n",
    "    sequences1,labels = [],[]\n",
    "    for action in actions:\n",
    "        for sequence in range(no_sequences):\n",
    "            window = []\n",
    "            try:\n",
    "                pre_res = np.load(os.path.join(DATA_PATH,action,str(sequence),\"{}.npy\".format(0)))\n",
    "            except:\n",
    "                break\n",
    "            for frame_num in range(sequence_length):\n",
    "                try:\n",
    "                    res = np.load(os.path.join(DATA_PATH,action,str(sequence),\"{}.npy\".format(frame_num)))\n",
    "                except:\n",
    "                    res = pre_res\n",
    "                n = len(res)\n",
    "                res = np.array(res)\n",
    "                print(res.shape)\n",
    "                # res = res.reshape(n,1)\n",
    "                window.append(res) # ??? x 132\n",
    "                pre_res = res\n",
    "            sequences1.append(window)\n",
    "            labels.append(label_map[action])\n",
    "    return sequences1,labels"
   ]
  },
  {
   "cell_type": "code",
   "execution_count": 12,
   "id": "bce52a4b",
   "metadata": {
    "pycharm": {
     "name": "#%%\n"
    }
   },
   "outputs": [],
   "source": [
    "sequences,labels = [],[]\n",
    "for action in os.listdir(\"DATA\"):\n",
    "    fd = os.path.join(\"DATA/\" + action)\n",
    "    window = []\n",
    "    for folder in os.listdir(fd):\n",
    "        fd1 = os.path.join(\"DATA/\" + action +\"/\"+ folder)\n",
    "        for file in os.listdir(fd1):\n",
    "            res = np.load(os.path.join(\"DATA/\" + action +\"/\"+ folder + \"/\" + file))\n",
    "            window.append(res)\n",
    "        sequences.append(window)\n",
    "        labels.append(label_map[action])"
   ]
  },
  {
   "cell_type": "code",
   "execution_count": 13,
   "id": "0cb15b1a",
   "metadata": {
    "pycharm": {
     "name": "#%%\n"
    }
   },
   "outputs": [
    {
     "name": "stdout",
     "output_type": "stream",
     "text": [
      "(132,)\n",
      "(132,)\n",
      "(132,)\n",
      "(132,)\n",
      "(132,)\n",
      "(132,)\n",
      "(132,)\n",
      "(132,)\n",
      "(132,)\n",
      "(132,)\n",
      "(132,)\n",
      "(132,)\n",
      "(132,)\n",
      "(132,)\n",
      "(132,)\n",
      "(132,)\n",
      "(132,)\n",
      "(132,)\n",
      "(132,)\n",
      "(132,)\n",
      "(132,)\n",
      "(132,)\n",
      "(132,)\n",
      "(132,)\n",
      "(132,)\n",
      "(132,)\n",
      "(132,)\n",
      "(132,)\n",
      "(132,)\n",
      "(132,)\n",
      "(132,)\n",
      "(132,)\n",
      "(132,)\n",
      "(132,)\n",
      "(132,)\n",
      "(132,)\n",
      "(132,)\n",
      "(132,)\n",
      "(132,)\n",
      "(132,)\n",
      "(132,)\n",
      "(132,)\n",
      "(132,)\n",
      "(132,)\n",
      "(132,)\n",
      "(132,)\n",
      "(132,)\n",
      "(132,)\n",
      "(132,)\n",
      "(132,)\n",
      "(132,)\n",
      "(132,)\n",
      "(132,)\n",
      "(132,)\n",
      "(132,)\n",
      "(132,)\n",
      "(132,)\n",
      "(132,)\n",
      "(132,)\n",
      "(132,)\n",
      "(132,)\n",
      "(132,)\n",
      "(132,)\n",
      "(132,)\n",
      "(132,)\n",
      "(132,)\n",
      "(132,)\n",
      "(132,)\n",
      "(132,)\n",
      "(132,)\n",
      "(132,)\n",
      "(132,)\n",
      "(132,)\n",
      "(132,)\n",
      "(132,)\n",
      "(132,)\n",
      "(132,)\n",
      "(132,)\n",
      "(132,)\n",
      "(132,)\n",
      "(132,)\n",
      "(132,)\n",
      "(132,)\n",
      "(132,)\n",
      "(132,)\n",
      "(132,)\n",
      "(132,)\n",
      "(132,)\n",
      "(132,)\n",
      "(132,)\n",
      "(132,)\n",
      "(132,)\n",
      "(132,)\n",
      "(132,)\n",
      "(132,)\n",
      "(132,)\n",
      "(132,)\n",
      "(132,)\n",
      "(132,)\n",
      "(132,)\n",
      "(132,)\n",
      "(132,)\n",
      "(132,)\n",
      "(132,)\n",
      "(132,)\n",
      "(132,)\n",
      "(132,)\n",
      "(132,)\n",
      "(132,)\n",
      "(132,)\n",
      "(132,)\n",
      "(132,)\n",
      "(132,)\n",
      "(132,)\n",
      "(132,)\n",
      "(132,)\n",
      "(132,)\n",
      "(132,)\n",
      "(132,)\n",
      "(132,)\n",
      "(132,)\n",
      "(132,)\n",
      "(132,)\n",
      "(132,)\n",
      "(132,)\n",
      "(132,)\n",
      "(132,)\n",
      "(132,)\n",
      "(132,)\n",
      "(132,)\n",
      "(132,)\n",
      "(132,)\n",
      "(132,)\n",
      "(132,)\n",
      "(132,)\n",
      "(132,)\n",
      "(132,)\n",
      "(132,)\n",
      "(132,)\n",
      "(132,)\n",
      "(132,)\n",
      "(132,)\n",
      "(132,)\n",
      "(132,)\n",
      "(132,)\n",
      "(132,)\n",
      "(132,)\n",
      "(132,)\n",
      "(132,)\n",
      "(132,)\n",
      "(132,)\n",
      "(132,)\n",
      "(132,)\n",
      "(132,)\n",
      "(132,)\n",
      "(132,)\n",
      "(132,)\n",
      "(132,)\n",
      "(132,)\n",
      "(132,)\n",
      "(132,)\n",
      "(132,)\n",
      "(132,)\n",
      "(132,)\n",
      "(132,)\n",
      "(132,)\n",
      "(132,)\n",
      "(132,)\n",
      "(132,)\n",
      "(132,)\n",
      "(132,)\n",
      "(132,)\n",
      "(132,)\n",
      "(132,)\n",
      "(132,)\n",
      "(132,)\n",
      "(132,)\n",
      "(132,)\n",
      "(132,)\n",
      "(132,)\n",
      "(132,)\n",
      "(132,)\n",
      "(132,)\n",
      "(132,)\n",
      "(132,)\n",
      "(132,)\n",
      "(132,)\n",
      "(132,)\n",
      "(132,)\n",
      "(132,)\n",
      "(132,)\n",
      "(132,)\n",
      "(132,)\n",
      "(132,)\n",
      "(132,)\n",
      "(132,)\n",
      "(132,)\n",
      "(132,)\n",
      "(132,)\n",
      "(132,)\n",
      "(132,)\n",
      "(132,)\n",
      "(132,)\n",
      "(132,)\n",
      "(132,)\n",
      "(132,)\n",
      "(132,)\n",
      "(132,)\n",
      "(132,)\n",
      "(132,)\n",
      "(132,)\n",
      "(132,)\n",
      "(132,)\n",
      "(132,)\n",
      "(132,)\n",
      "(132,)\n",
      "(132,)\n",
      "(132,)\n",
      "(132,)\n",
      "(132,)\n",
      "(132,)\n",
      "(132,)\n",
      "(132,)\n",
      "(132,)\n",
      "(132,)\n",
      "(132,)\n",
      "(132,)\n",
      "(132,)\n",
      "(132,)\n",
      "(132,)\n",
      "(132,)\n",
      "(132,)\n",
      "(132,)\n",
      "(132,)\n",
      "(132,)\n",
      "(132,)\n",
      "(132,)\n",
      "(132,)\n",
      "(132,)\n",
      "(132,)\n",
      "(132,)\n",
      "(132,)\n",
      "(132,)\n",
      "(132,)\n",
      "(132,)\n",
      "(132,)\n",
      "(132,)\n",
      "(132,)\n",
      "(132,)\n",
      "(132,)\n",
      "(132,)\n",
      "(132,)\n",
      "(132,)\n",
      "(132,)\n",
      "(132,)\n",
      "(132,)\n",
      "(132,)\n",
      "(132,)\n",
      "(132,)\n",
      "(132,)\n",
      "(132,)\n",
      "(132,)\n",
      "(132,)\n",
      "(132,)\n",
      "(132,)\n",
      "(132,)\n",
      "(132,)\n",
      "(132,)\n",
      "(132,)\n",
      "(132,)\n"
     ]
    }
   ],
   "source": [
    "sequences,labels = load_data(actions,no_sequences,sequence_length)"
   ]
  },
  {
   "cell_type": "code",
   "execution_count": 14,
   "id": "b7156747",
   "metadata": {
    "pycharm": {
     "name": "#%%\n"
    }
   },
   "outputs": [
    {
     "name": "stdout",
     "output_type": "stream",
     "text": [
      "(9, 30, 132)\n"
     ]
    },
    {
     "data": {
      "text/plain": "(9, 30, 132)"
     },
     "execution_count": 14,
     "metadata": {},
     "output_type": "execute_result"
    }
   ],
   "source": [
    "X = np.array(sequences)\n",
    "print(X.shape)\n",
    "X.shape"
   ]
  },
  {
   "cell_type": "code",
   "execution_count": 15,
   "id": "92f31566",
   "metadata": {
    "pycharm": {
     "name": "#%%\n"
    }
   },
   "outputs": [
    {
     "data": {
      "text/plain": "array([[1, 0, 0],\n       [1, 0, 0],\n       [1, 0, 0],\n       [0, 1, 0],\n       [0, 1, 0],\n       [0, 1, 0],\n       [0, 0, 1],\n       [0, 0, 1],\n       [0, 0, 1]])"
     },
     "execution_count": 15,
     "metadata": {},
     "output_type": "execute_result"
    }
   ],
   "source": [
    "def to_categorical(y, num_classes=None):\n",
    "    y = np.array(y, dtype='int')\n",
    "    input_shape = y.shape\n",
    "    if input_shape and input_shape[-1] == 1 and len(input_shape) > 1:\n",
    "        input_shape = tuple(input_shape[:-1])\n",
    "    y = y.ravel()\n",
    "    if not num_classes:\n",
    "        num_classes = np.max(y) + 1\n",
    "    n = y.shape[0]\n",
    "    categorical = np.zeros((n, num_classes))\n",
    "    categorical[np.arange(n), y] = 1\n",
    "    output_shape = input_shape + (num_classes,)\n",
    "    categorical = np.reshape(categorical, output_shape)\n",
    "    return categorical\n",
    "\n",
    "y = to_categorical(labels).astype(int)\n",
    "y"
   ]
  },
  {
   "cell_type": "code",
   "execution_count": 16,
   "id": "cf0aeaa0",
   "metadata": {
    "pycharm": {
     "name": "#%%\n"
    }
   },
   "outputs": [],
   "source": [
    "with open('X1.npy', 'wb') as f:\n",
    "    np.save(f, X)\n",
    "with open('y1.npy', 'wb') as f:\n",
    "    np.save(f, y)"
   ]
  },
  {
   "cell_type": "code",
   "execution_count": null,
   "id": "64c7eabc",
   "metadata": {
    "pycharm": {
     "name": "#%%\n"
    }
   },
   "outputs": [],
   "source": []
  }
 ],
 "metadata": {
  "kernelspec": {
   "display_name": "Python 3 (ipykernel)",
   "language": "python",
   "name": "python3"
  },
  "language_info": {
   "codemirror_mode": {
    "name": "ipython",
    "version": 3
   },
   "file_extension": ".py",
   "mimetype": "text/x-python",
   "name": "python",
   "nbconvert_exporter": "python",
   "pygments_lexer": "ipython3",
   "version": "3.9.7"
  }
 },
 "nbformat": 4,
 "nbformat_minor": 5
}
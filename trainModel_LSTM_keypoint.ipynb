{
 "nbformat": 4,
 "nbformat_minor": 0,
 "metadata": {
  "accelerator": "GPU",
  "colab": {
   "name": "trainModel_LSTM_keypoint.ipynb",
   "provenance": [],
   "collapsed_sections": []
  },
  "kernelspec": {
   "display_name": "Python 3",
   "name": "python3"
  },
  "language_info": {
   "name": "python"
  }
 },
 "cells": [
  {
   "cell_type": "code",
   "metadata": {
    "id": "HSmy2PmqKh5i",
    "pycharm": {
     "name": "#%%\n"
    }
   },
   "source": [
    "import os\n",
    "import numpy as np\n",
    "from sklearn.model_selection import train_test_split\n",
    "\n",
    "import datetime"
   ],
   "execution_count": 1,
   "outputs": []
  },
  {
   "cell_type": "code",
   "metadata": {
    "id": "OzOO-TVadM7U",
    "pycharm": {
     "name": "#%%\n"
    }
   },
   "source": [
    "logdir = os.path.join(\"logs\", datetime.datetime.now().strftime(\"%Y%m%d-%H%M%S\"))"
   ],
   "execution_count": 2,
   "outputs": []
  },
  {
   "cell_type": "code",
   "metadata": {
    "id": "Fi4ei3jxMGpK",
    "pycharm": {
     "name": "#%%\n"
    }
   },
   "source": [
    "actions = np.array([\"walking\",\"boxing\",\"handwaving\"])"
   ],
   "execution_count": 3,
   "outputs": []
  },
  {
   "cell_type": "code",
   "metadata": {
    "id": "nhBtEKYzM0Io",
    "pycharm": {
     "name": "#%%\n"
    }
   },
   "source": [
    "X = np.load(\"./X1.npy\",allow_pickle = True)\n",
    "y = np.load(\"./y1.npy\", allow_pickle = True)\n",
    "X_train,X_test,y_train,y_test = train_test_split(X,y,test_size = 0.2)"
   ],
   "execution_count": 4,
   "outputs": []
  },
  {
   "cell_type": "code",
   "metadata": {
    "colab": {
     "base_uri": "https://localhost:8080/"
    },
    "id": "fldGA_n0cmPS",
    "outputId": "b77429bb-b238-437b-a93d-20b578a2ad59",
    "pycharm": {
     "name": "#%%\n"
    }
   },
   "source": [
    "X.shape"
   ],
   "execution_count": 5,
   "outputs": [
    {
     "data": {
      "text/plain": "(46, 30, 132)"
     },
     "execution_count": 5,
     "metadata": {},
     "output_type": "execute_result"
    }
   ]
  },
  {
   "cell_type": "code",
   "metadata": {
    "colab": {
     "base_uri": "https://localhost:8080/"
    },
    "id": "6suiHL4mNiuo",
    "outputId": "cff6a80e-8ddd-434a-98f4-371d9452f557",
    "pycharm": {
     "name": "#%%\n"
    }
   },
   "source": [
    "X_train.shape"
   ],
   "execution_count": 6,
   "outputs": [
    {
     "data": {
      "text/plain": "(36, 30, 132)"
     },
     "execution_count": 6,
     "metadata": {},
     "output_type": "execute_result"
    }
   ]
  },
  {
   "cell_type": "code",
   "metadata": {
    "colab": {
     "base_uri": "https://localhost:8080/"
    },
    "id": "f2gWJyHTNku1",
    "outputId": "d191575d-e79f-4690-e78a-b243aafdbbd6",
    "pycharm": {
     "name": "#%%\n"
    }
   },
   "source": [
    "y_train.shape"
   ],
   "execution_count": 7,
   "outputs": [
    {
     "data": {
      "text/plain": "(36, 3)"
     },
     "execution_count": 7,
     "metadata": {},
     "output_type": "execute_result"
    }
   ]
  },
  {
   "cell_type": "code",
   "metadata": {
    "colab": {
     "base_uri": "https://localhost:8080/"
    },
    "id": "yzbQEf5JdYtp",
    "outputId": "2ff7aaca-82cd-4c22-d974-e6579c1b2382",
    "pycharm": {
     "name": "#%%\n"
    }
   },
   "source": [
    "actions.shape[0]"
   ],
   "execution_count": 8,
   "outputs": [
    {
     "data": {
      "text/plain": "3"
     },
     "execution_count": 8,
     "metadata": {},
     "output_type": "execute_result"
    }
   ]
  },
  {
   "cell_type": "code",
   "execution_count": 9,
   "outputs": [
    {
     "name": "stderr",
     "output_type": "stream",
     "text": [
      "D:\\Anaconda\\envs\\mmedu\\lib\\site-packages\\tqdm\\auto.py:22: TqdmWarning: IProgress not found. Please update jupyter and ipywidgets. See https://ipywidgets.readthedocs.io/en/stable/user_install.html\n",
      "  from .autonotebook import tqdm as notebook_tqdm\n"
     ]
    }
   ],
   "source": [
    "import torch.optim as optim\n",
    "import torch.nn as nn\n",
    "from LSTM import LSTM_model\n",
    "from torch.utils.data import Dataset, DataLoader\n",
    "import torch"
   ],
   "metadata": {
    "collapsed": false,
    "pycharm": {
     "name": "#%%\n"
    }
   }
  },
  {
   "cell_type": "code",
   "execution_count": 10,
   "outputs": [],
   "source": [
    "class MyDataset(Dataset):\n",
    "    def __init__(self, data, labels = None):\n",
    "        self.data = data\n",
    "        self.labels = labels\n",
    "\n",
    "    def __getitem__(self, index):\n",
    "        x = self.data[index]\n",
    "        if self.labels is None:\n",
    "            y = None\n",
    "        else:\n",
    "            y = self.labels[index]\n",
    "        return x, y\n",
    "\n",
    "    def __len__(self):\n",
    "        return len(self.data)"
   ],
   "metadata": {
    "collapsed": false,
    "pycharm": {
     "name": "#%%\n"
    }
   }
  },
  {
   "cell_type": "code",
   "execution_count": 11,
   "outputs": [],
   "source": [
    "# 创建数据集对象\n",
    "dataset = MyDataset(X_train, y_train)\n",
    "test = MyDataset(X_test, y_test)\n",
    "# 创建数据加载器对象\n",
    "train_loader = DataLoader(dataset, batch_size=4, shuffle=False, drop_last=True)\n",
    "test_loader = DataLoader(test, batch_size=4, shuffle=False, drop_last=True)"
   ],
   "metadata": {
    "collapsed": false,
    "pycharm": {
     "name": "#%%\n"
    }
   }
  },
  {
   "cell_type": "code",
   "metadata": {
    "id": "ruKw8IV-9g5D",
    "pycharm": {
     "name": "#%%\n"
    }
   },
   "source": [
    "# 定义模型和优化器\n",
    "model = LSTM_model(actions)\n",
    "optimizer = optim.Adam(model.parameters(), lr=0.001)\n",
    "criterion = nn.BCELoss()\n",
    "\n",
    "# 训练模型\n",
    "epochs = 100\n",
    "for epoch in range(epochs):\n",
    "    running_loss = 0.0\n",
    "    for inputs, labels in train_loader:  # 迭代训练数据\n",
    "        optimizer.zero_grad()  # 梯度清零\n",
    "        inputs = inputs.to(torch.float32)\n",
    "        labels = labels.to(torch.float32)\n",
    "        outputs = model(inputs)  # 前向传播\n",
    "        loss = criterion(outputs, labels)  # 计算损失\n",
    "        loss.backward()  # 反向传播\n",
    "        optimizer.step()  # 更新参数\n",
    "\n",
    "        running_loss += loss.item() * inputs.size(0)\n",
    "\n",
    "    epoch_loss = running_loss / len(train_loader.dataset)  # 计算平均损失\n",
    "    print('Epoch: {}, Training Loss: {:.4f}'.format(epoch+1, epoch_loss))\n",
    "\n",
    "torch.save(model, 'model.pth')"
   ],
   "execution_count": 13,
   "outputs": [
    {
     "name": "stdout",
     "output_type": "stream",
     "text": [
      "Epoch: 1, Training Loss: 0.4673\n",
      "Epoch: 2, Training Loss: 0.1670\n",
      "Epoch: 3, Training Loss: 0.5273\n",
      "Epoch: 4, Training Loss: 0.1536\n",
      "Epoch: 5, Training Loss: 0.1560\n",
      "Epoch: 6, Training Loss: 0.0897\n",
      "Epoch: 7, Training Loss: 0.2293\n",
      "Epoch: 8, Training Loss: 0.1537\n",
      "Epoch: 9, Training Loss: 0.1703\n",
      "Epoch: 10, Training Loss: 0.0302\n",
      "Epoch: 11, Training Loss: 0.0445\n",
      "Epoch: 12, Training Loss: 0.0565\n",
      "Epoch: 13, Training Loss: 0.0861\n",
      "Epoch: 14, Training Loss: 0.0117\n",
      "Epoch: 15, Training Loss: 0.0110\n",
      "Epoch: 16, Training Loss: 0.0664\n",
      "Epoch: 17, Training Loss: 0.3125\n",
      "Epoch: 18, Training Loss: 0.1284\n",
      "Epoch: 19, Training Loss: 0.1467\n",
      "Epoch: 20, Training Loss: 0.1079\n",
      "Epoch: 21, Training Loss: 0.0517\n",
      "Epoch: 22, Training Loss: 0.0439\n",
      "Epoch: 23, Training Loss: 0.0251\n",
      "Epoch: 24, Training Loss: 0.0169\n",
      "Epoch: 25, Training Loss: 0.0061\n",
      "Epoch: 26, Training Loss: 0.4829\n",
      "Epoch: 27, Training Loss: 0.2169\n",
      "Epoch: 28, Training Loss: 0.1110\n",
      "Epoch: 29, Training Loss: 0.0468\n",
      "Epoch: 30, Training Loss: 0.0836\n",
      "Epoch: 31, Training Loss: 0.1471\n",
      "Epoch: 32, Training Loss: 0.2474\n",
      "Epoch: 33, Training Loss: 0.0594\n",
      "Epoch: 34, Training Loss: 0.0862\n",
      "Epoch: 35, Training Loss: 0.0313\n",
      "Epoch: 36, Training Loss: 0.0099\n",
      "Epoch: 37, Training Loss: 0.0048\n",
      "Epoch: 38, Training Loss: 0.0028\n",
      "Epoch: 39, Training Loss: 0.0024\n",
      "Epoch: 40, Training Loss: 0.0009\n",
      "Epoch: 41, Training Loss: 0.0009\n",
      "Epoch: 42, Training Loss: 0.0009\n",
      "Epoch: 43, Training Loss: 0.0007\n",
      "Epoch: 44, Training Loss: 0.0006\n",
      "Epoch: 45, Training Loss: 0.0004\n",
      "Epoch: 46, Training Loss: 0.0004\n",
      "Epoch: 47, Training Loss: 0.0005\n",
      "Epoch: 48, Training Loss: 0.0004\n",
      "Epoch: 49, Training Loss: 0.0005\n",
      "Epoch: 50, Training Loss: 0.0006\n",
      "Epoch: 51, Training Loss: 0.0011\n",
      "Epoch: 52, Training Loss: 0.0004\n",
      "Epoch: 53, Training Loss: 0.0004\n",
      "Epoch: 54, Training Loss: 0.0007\n",
      "Epoch: 55, Training Loss: 0.0002\n",
      "Epoch: 56, Training Loss: 0.0003\n",
      "Epoch: 57, Training Loss: 0.0003\n",
      "Epoch: 58, Training Loss: 0.0007\n",
      "Epoch: 59, Training Loss: 0.0002\n",
      "Epoch: 60, Training Loss: 0.0002\n",
      "Epoch: 61, Training Loss: 0.0002\n",
      "Epoch: 62, Training Loss: 0.0002\n",
      "Epoch: 63, Training Loss: 0.0004\n",
      "Epoch: 64, Training Loss: 0.0003\n",
      "Epoch: 65, Training Loss: 0.0001\n",
      "Epoch: 66, Training Loss: 0.0009\n",
      "Epoch: 67, Training Loss: 0.0003\n",
      "Epoch: 68, Training Loss: 0.0002\n",
      "Epoch: 69, Training Loss: 0.0003\n",
      "Epoch: 70, Training Loss: 0.0001\n",
      "Epoch: 71, Training Loss: 0.0001\n",
      "Epoch: 72, Training Loss: 0.0001\n",
      "Epoch: 73, Training Loss: 0.0001\n",
      "Epoch: 74, Training Loss: 0.0001\n",
      "Epoch: 75, Training Loss: 0.0001\n",
      "Epoch: 76, Training Loss: 0.0001\n",
      "Epoch: 77, Training Loss: 0.0001\n",
      "Epoch: 78, Training Loss: 0.0001\n",
      "Epoch: 79, Training Loss: 0.0002\n",
      "Epoch: 80, Training Loss: 0.0001\n",
      "Epoch: 81, Training Loss: 0.0001\n",
      "Epoch: 82, Training Loss: 0.0001\n",
      "Epoch: 83, Training Loss: 0.0001\n",
      "Epoch: 84, Training Loss: 0.0001\n",
      "Epoch: 85, Training Loss: 0.0001\n",
      "Epoch: 86, Training Loss: 0.0002\n",
      "Epoch: 87, Training Loss: 0.0000\n",
      "Epoch: 88, Training Loss: 0.0001\n",
      "Epoch: 89, Training Loss: 0.0001\n",
      "Epoch: 90, Training Loss: 0.0000\n",
      "Epoch: 91, Training Loss: 0.0001\n",
      "Epoch: 92, Training Loss: 0.0000\n",
      "Epoch: 93, Training Loss: 0.0001\n",
      "Epoch: 94, Training Loss: 0.0000\n",
      "Epoch: 95, Training Loss: 0.0001\n",
      "Epoch: 96, Training Loss: 0.0001\n",
      "Epoch: 97, Training Loss: 0.0000\n",
      "Epoch: 98, Training Loss: 0.0000\n",
      "Epoch: 99, Training Loss: 0.0000\n",
      "Epoch: 100, Training Loss: 0.0001\n"
     ]
    }
   ]
  },
  {
   "cell_type": "code",
   "execution_count": null,
   "outputs": [],
   "source": [
    "# 测试模型\n",
    "model.eval()\n",
    "for inputs, labels in test_loader:\n",
    "    inputs = inputs.to(torch.float32)\n",
    "    print(inputs.shape)\n",
    "    res = model(inputs)\n",
    "    for r in res:\n",
    "        print(\"predict: {}\".format(actions[np.argmax(r.detach().numpy())]))\n",
    "    for label in labels:\n",
    "        print(\"ground truth: {}\".format(actions[np.argmax(label.numpy())]))"
   ],
   "metadata": {
    "collapsed": false,
    "pycharm": {
     "name": "#%%\n"
    }
   }
  },
  {
   "cell_type": "code",
   "execution_count": null,
   "outputs": [],
   "source": [],
   "metadata": {
    "collapsed": false,
    "pycharm": {
     "name": "#%%\n"
    }
   }
  }
 ]
}
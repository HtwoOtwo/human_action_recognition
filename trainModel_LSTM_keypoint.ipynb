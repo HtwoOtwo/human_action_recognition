{
 "nbformat": 4,
 "nbformat_minor": 0,
 "metadata": {
  "accelerator": "GPU",
  "colab": {
   "name": "trainModel_LSTM_keypoint.ipynb",
   "provenance": [],
   "collapsed_sections": []
  },
  "kernelspec": {
   "display_name": "Python 3",
   "name": "python3"
  },
  "language_info": {
   "name": "python"
  }
 },
 "cells": [
  {
   "cell_type": "code",
   "metadata": {
    "id": "HSmy2PmqKh5i",
    "pycharm": {
     "name": "#%%\n"
    }
   },
   "source": [
    "import os\n",
    "import numpy as np\n",
    "from sklearn.model_selection import train_test_split\n",
    "\n",
    "import datetime"
   ],
   "execution_count": 37,
   "outputs": []
  },
  {
   "cell_type": "code",
   "metadata": {
    "id": "OzOO-TVadM7U",
    "pycharm": {
     "name": "#%%\n"
    }
   },
   "source": [
    "logdir = os.path.join(\"logs\", datetime.datetime.now().strftime(\"%Y%m%d-%H%M%S\"))"
   ],
   "execution_count": 38,
   "outputs": []
  },
  {
   "cell_type": "code",
   "metadata": {
    "id": "Fi4ei3jxMGpK",
    "pycharm": {
     "name": "#%%\n"
    }
   },
   "source": [
    "actions = np.array([\"walking\",\"boxing\",\"handwaving\"])"
   ],
   "execution_count": 39,
   "outputs": []
  },
  {
   "cell_type": "code",
   "metadata": {
    "id": "nhBtEKYzM0Io",
    "pycharm": {
     "name": "#%%\n"
    }
   },
   "source": [
    "X = np.load(\"./X1.npy\",allow_pickle = True)\n",
    "y = np.load(\"./y1.npy\", allow_pickle = True)\n",
    "print(X)\n",
    "#Chia dữ liệu\n",
    "X_train,X_test,y_train,y_test = train_test_split(X,y,test_size = 0.2)"
   ],
   "execution_count": 40,
   "outputs": [
    {
     "name": "stdout",
     "output_type": "stream",
     "text": [
      "[[[ 0.          0.          0.         ...  0.          0.\n",
      "    0.        ]\n",
      "  [ 0.          0.          0.         ...  0.          0.\n",
      "    0.        ]\n",
      "  [ 0.          0.          0.         ...  0.          0.\n",
      "    0.        ]\n",
      "  ...\n",
      "  [ 0.63365924  0.14614753 -0.14069085 ...  0.78772527  0.25177038\n",
      "    0.8931123 ]\n",
      "  [ 0.61432379  0.14053936 -0.14560398 ...  0.78763813  0.25283921\n",
      "    0.89421827]\n",
      "  [ 0.59513819  0.1403195  -0.18441123 ...  0.78761786  0.35164031\n",
      "    0.8965258 ]]\n",
      "\n",
      " [[ 0.5766573   0.13791214 -0.17605722 ...  0.78489572  0.32537073\n",
      "    0.88771462]\n",
      "  [ 0.56357151  0.13555603 -0.09422498 ...  0.78301948  0.33317456\n",
      "    0.89259863]\n",
      "  [ 0.54559159  0.13458501 -0.07521461 ...  0.78399187  0.27583307\n",
      "    0.88933361]\n",
      "  ...\n",
      "  [ 0.1227383   0.11517255 -0.14762533 ...  0.75696534  0.2958594\n",
      "    0.95440036]\n",
      "  [ 0.10444719  0.1131096  -0.12361038 ...  0.75356609  0.31085479\n",
      "    0.94651288]\n",
      "  [ 0.09093846  0.11017571 -0.12647308 ...  0.75333977  0.30464977\n",
      "    0.93308228]]\n",
      "\n",
      " [[ 0.07265132  0.10875133 -0.12265451 ...  0.75069785  0.34162059\n",
      "    0.92738301]\n",
      "  [ 0.05536353  0.10688397 -0.08398452 ...  0.7538529   0.33277515\n",
      "    0.91665381]\n",
      "  [ 0.03686526  0.10772554 -0.08630268 ...  0.75369364  0.22568779\n",
      "    0.89621121]\n",
      "  ...\n",
      "  [ 0.          0.          0.         ...  0.          0.\n",
      "    0.        ]\n",
      "  [ 0.          0.          0.         ...  0.          0.\n",
      "    0.        ]\n",
      "  [ 0.          0.          0.         ...  0.          0.\n",
      "    0.        ]]\n",
      "\n",
      " ...\n",
      "\n",
      " [[ 0.59630209  0.20544177 -0.37462381 ...  0.89155161  0.04833855\n",
      "    0.97097057]\n",
      "  [ 0.59501034  0.20691331 -0.35911408 ...  0.89125645  0.0442856\n",
      "    0.97078723]\n",
      "  [ 0.59438926  0.20781866 -0.32325554 ...  0.89155537  0.05414056\n",
      "    0.97016501]\n",
      "  ...\n",
      "  [ 0.59372264  0.20978513 -0.17489354 ...  0.88818687  0.06124114\n",
      "    0.97163576]\n",
      "  [ 0.59377337  0.2100196  -0.19891167 ...  0.88810861  0.07061577\n",
      "    0.97204274]\n",
      "  [ 0.59374112  0.20963535 -0.19987997 ...  0.88815236  0.05876518\n",
      "    0.97293544]]\n",
      "\n",
      " [[ 0.59376413  0.2095748  -0.22889432 ...  0.88816202  0.05620152\n",
      "    0.97419727]\n",
      "  [ 0.59378314  0.20952964 -0.24660277 ...  0.88840407  0.05704532\n",
      "    0.97453296]\n",
      "  [ 0.59427547  0.20921309 -0.31191882 ...  0.8886497   0.05555145\n",
      "    0.97501349]\n",
      "  ...\n",
      "  [ 0.59922969  0.18351267 -0.06141405 ...  0.88094074  0.07907733\n",
      "    0.97595346]\n",
      "  [ 0.59975559  0.18406026 -0.05292221 ...  0.88086665  0.07541588\n",
      "    0.97642791]\n",
      "  [ 0.59977251  0.18440983 -0.00944691 ...  0.88087738  0.04213973\n",
      "    0.97589386]]\n",
      "\n",
      " [[ 0.60019922  0.17889014 -0.02645351 ...  0.879852    0.01265986\n",
      "    0.97472626]\n",
      "  [ 0.60106653  0.1727367  -0.0811689  ...  0.87961388 -0.00504346\n",
      "    0.97322243]\n",
      "  [ 0.60198176  0.18254827 -0.12085775 ...  0.88076323  0.0181792\n",
      "    0.97298932]\n",
      "  ...\n",
      "  [ 0.60175222  0.1987153  -0.36815339 ...  0.88343543  0.00808844\n",
      "    0.97220922]\n",
      "  [ 0.60175222  0.1987153  -0.36815339 ...  0.88343543  0.00808844\n",
      "    0.97220922]\n",
      "  [ 0.60175222  0.1987153  -0.36815339 ...  0.88343543  0.00808844\n",
      "    0.97220922]]]\n"
     ]
    }
   ]
  },
  {
   "cell_type": "code",
   "metadata": {
    "colab": {
     "base_uri": "https://localhost:8080/"
    },
    "id": "fldGA_n0cmPS",
    "outputId": "b77429bb-b238-437b-a93d-20b578a2ad59",
    "pycharm": {
     "name": "#%%\n"
    }
   },
   "source": [
    "X.shape"
   ],
   "execution_count": 41,
   "outputs": [
    {
     "data": {
      "text/plain": "(46, 30, 132)"
     },
     "execution_count": 41,
     "metadata": {},
     "output_type": "execute_result"
    }
   ]
  },
  {
   "cell_type": "code",
   "metadata": {
    "colab": {
     "base_uri": "https://localhost:8080/"
    },
    "id": "6suiHL4mNiuo",
    "outputId": "cff6a80e-8ddd-434a-98f4-371d9452f557",
    "pycharm": {
     "name": "#%%\n"
    }
   },
   "source": [
    "X_train.shape"
   ],
   "execution_count": 42,
   "outputs": [
    {
     "data": {
      "text/plain": "(36, 30, 132)"
     },
     "execution_count": 42,
     "metadata": {},
     "output_type": "execute_result"
    }
   ]
  },
  {
   "cell_type": "code",
   "metadata": {
    "colab": {
     "base_uri": "https://localhost:8080/"
    },
    "id": "f2gWJyHTNku1",
    "outputId": "d191575d-e79f-4690-e78a-b243aafdbbd6",
    "pycharm": {
     "name": "#%%\n"
    }
   },
   "source": [
    "y_train.shape"
   ],
   "execution_count": 43,
   "outputs": [
    {
     "data": {
      "text/plain": "(36, 3)"
     },
     "execution_count": 43,
     "metadata": {},
     "output_type": "execute_result"
    }
   ]
  },
  {
   "cell_type": "code",
   "metadata": {
    "colab": {
     "base_uri": "https://localhost:8080/"
    },
    "id": "yzbQEf5JdYtp",
    "outputId": "2ff7aaca-82cd-4c22-d974-e6579c1b2382",
    "pycharm": {
     "name": "#%%\n"
    }
   },
   "source": [
    "actions.shape[0]"
   ],
   "execution_count": 44,
   "outputs": [
    {
     "data": {
      "text/plain": "3"
     },
     "execution_count": 44,
     "metadata": {},
     "output_type": "execute_result"
    }
   ]
  },
  {
   "cell_type": "code",
   "execution_count": 45,
   "outputs": [],
   "source": [
    "import torch.optim as optim\n",
    "import torch.nn as nn\n",
    "from LSTM import LSTM_model\n",
    "from torch.utils.data import Dataset, DataLoader\n",
    "import torch"
   ],
   "metadata": {
    "collapsed": false,
    "pycharm": {
     "name": "#%%\n"
    }
   }
  },
  {
   "cell_type": "code",
   "execution_count": 46,
   "outputs": [],
   "source": [
    "class MyDataset(Dataset):\n",
    "    def __init__(self, data, labels = None):\n",
    "        self.data = data\n",
    "        self.labels = labels\n",
    "\n",
    "    def __getitem__(self, index):\n",
    "        x = self.data[index]\n",
    "        if self.labels is None:\n",
    "            y = None\n",
    "        else:\n",
    "            y = self.labels[index]\n",
    "        return x, y\n",
    "\n",
    "    def __len__(self):\n",
    "        return len(self.data)"
   ],
   "metadata": {
    "collapsed": false,
    "pycharm": {
     "name": "#%%\n"
    }
   }
  },
  {
   "cell_type": "code",
   "execution_count": 47,
   "outputs": [],
   "source": [
    "# 创建数据集对象\n",
    "dataset = MyDataset(X_train, y_train)\n",
    "test = MyDataset(X_test, y_test)\n",
    "# 创建数据加载器对象\n",
    "train_loader = DataLoader(dataset, batch_size=4, shuffle=False, drop_last=True)\n",
    "test_loader = DataLoader(test, batch_size=4, shuffle=False, drop_last=True)"
   ],
   "metadata": {
    "collapsed": false,
    "pycharm": {
     "name": "#%%\n"
    }
   }
  },
  {
   "cell_type": "code",
   "metadata": {
    "id": "ruKw8IV-9g5D",
    "pycharm": {
     "name": "#%%\n"
    }
   },
   "source": [
    "# 定义模型和优化器\n",
    "model = LSTM_model(actions)\n",
    "optimizer = optim.Adam(model.parameters(), lr=0.001)\n",
    "criterion = nn.BCELoss()\n",
    "\n",
    "# 训练模型\n",
    "epochs = 100\n",
    "for epoch in range(epochs):\n",
    "    running_loss = 0.0\n",
    "    for inputs, labels in train_loader:  # 迭代训练数据\n",
    "        optimizer.zero_grad()  # 梯度清零\n",
    "        inputs = inputs.to(torch.float32)\n",
    "        labels = labels.to(torch.float32)\n",
    "        outputs = model(inputs)  # 前向传播\n",
    "        loss = criterion(outputs, labels)  # 计算损失\n",
    "        loss.backward()  # 反向传播\n",
    "        optimizer.step()  # 更新参数\n",
    "\n",
    "        running_loss += loss.item() * inputs.size(0)\n",
    "\n",
    "    epoch_loss = running_loss / len(train_loader.dataset)  # 计算平均损失\n",
    "    print('Epoch: {}, Training Loss: {:.4f}'.format(epoch+1, epoch_loss))\n",
    "\n",
    "torch.save(model, 'model.pth')"
   ],
   "execution_count": 48,
   "outputs": [
    {
     "name": "stdout",
     "output_type": "stream",
     "text": [
      "Epoch: 1, Training Loss: 0.5926\n",
      "Epoch: 2, Training Loss: 0.4788\n",
      "Epoch: 3, Training Loss: 0.6364\n",
      "Epoch: 4, Training Loss: 0.4847\n",
      "Epoch: 5, Training Loss: 0.3843\n",
      "Epoch: 6, Training Loss: 0.3326\n",
      "Epoch: 7, Training Loss: 0.3437\n",
      "Epoch: 8, Training Loss: 0.2472\n",
      "Epoch: 9, Training Loss: 0.3464\n",
      "Epoch: 10, Training Loss: 0.2245\n",
      "Epoch: 11, Training Loss: 0.2400\n",
      "Epoch: 12, Training Loss: 0.2844\n",
      "Epoch: 13, Training Loss: 0.2108\n",
      "Epoch: 14, Training Loss: 0.1606\n",
      "Epoch: 15, Training Loss: 0.1728\n",
      "Epoch: 16, Training Loss: 0.2425\n",
      "Epoch: 17, Training Loss: 0.4360\n",
      "Epoch: 18, Training Loss: 0.4567\n",
      "Epoch: 19, Training Loss: 0.5581\n",
      "Epoch: 20, Training Loss: 0.4583\n",
      "Epoch: 21, Training Loss: 0.3154\n",
      "Epoch: 22, Training Loss: 0.7955\n",
      "Epoch: 23, Training Loss: 0.6727\n",
      "Epoch: 24, Training Loss: 0.6695\n",
      "Epoch: 25, Training Loss: 0.6499\n",
      "Epoch: 26, Training Loss: 0.6437\n",
      "Epoch: 27, Training Loss: 0.6667\n",
      "Epoch: 28, Training Loss: 0.6377\n",
      "Epoch: 29, Training Loss: 0.6588\n",
      "Epoch: 30, Training Loss: 0.6085\n",
      "Epoch: 31, Training Loss: 0.6204\n",
      "Epoch: 32, Training Loss: 0.6078\n",
      "Epoch: 33, Training Loss: 0.4930\n",
      "Epoch: 34, Training Loss: 0.5440\n",
      "Epoch: 35, Training Loss: 0.5573\n",
      "Epoch: 36, Training Loss: 0.5043\n",
      "Epoch: 37, Training Loss: 0.5680\n",
      "Epoch: 38, Training Loss: 0.5497\n",
      "Epoch: 39, Training Loss: 0.4747\n",
      "Epoch: 40, Training Loss: 0.4239\n",
      "Epoch: 41, Training Loss: 0.3655\n",
      "Epoch: 42, Training Loss: 0.3580\n",
      "Epoch: 43, Training Loss: 0.2931\n",
      "Epoch: 44, Training Loss: 0.3101\n",
      "Epoch: 45, Training Loss: 0.2730\n",
      "Epoch: 46, Training Loss: 0.3052\n",
      "Epoch: 47, Training Loss: 0.2622\n",
      "Epoch: 48, Training Loss: 0.3335\n",
      "Epoch: 49, Training Loss: 0.3523\n",
      "Epoch: 50, Training Loss: 0.2914\n",
      "Epoch: 51, Training Loss: 0.2510\n",
      "Epoch: 52, Training Loss: 0.2243\n",
      "Epoch: 53, Training Loss: 0.2196\n",
      "Epoch: 54, Training Loss: 0.1847\n",
      "Epoch: 55, Training Loss: 0.2031\n",
      "Epoch: 56, Training Loss: 0.1436\n",
      "Epoch: 57, Training Loss: 0.1380\n",
      "Epoch: 58, Training Loss: 0.2259\n",
      "Epoch: 59, Training Loss: 0.1192\n",
      "Epoch: 60, Training Loss: 0.1070\n",
      "Epoch: 61, Training Loss: 0.0861\n",
      "Epoch: 62, Training Loss: 0.0935\n",
      "Epoch: 63, Training Loss: 0.0792\n",
      "Epoch: 64, Training Loss: 0.0743\n",
      "Epoch: 65, Training Loss: 0.0761\n",
      "Epoch: 66, Training Loss: 0.1542\n",
      "Epoch: 67, Training Loss: 0.4262\n",
      "Epoch: 68, Training Loss: 0.6017\n",
      "Epoch: 69, Training Loss: 0.2658\n",
      "Epoch: 70, Training Loss: 0.2468\n",
      "Epoch: 71, Training Loss: 0.1756\n",
      "Epoch: 72, Training Loss: 0.1054\n",
      "Epoch: 73, Training Loss: 0.0657\n",
      "Epoch: 74, Training Loss: 0.0449\n",
      "Epoch: 75, Training Loss: 0.0494\n",
      "Epoch: 76, Training Loss: 0.0254\n",
      "Epoch: 77, Training Loss: 0.0221\n",
      "Epoch: 78, Training Loss: 0.0213\n",
      "Epoch: 79, Training Loss: 0.0448\n",
      "Epoch: 80, Training Loss: 0.0563\n",
      "Epoch: 81, Training Loss: 0.4123\n",
      "Epoch: 82, Training Loss: 0.4305\n",
      "Epoch: 83, Training Loss: 0.2173\n",
      "Epoch: 84, Training Loss: 0.2751\n",
      "Epoch: 85, Training Loss: 0.2168\n",
      "Epoch: 86, Training Loss: 0.5262\n",
      "Epoch: 87, Training Loss: 0.9564\n",
      "Epoch: 88, Training Loss: 0.7064\n",
      "Epoch: 89, Training Loss: 0.6077\n",
      "Epoch: 90, Training Loss: 0.5669\n",
      "Epoch: 91, Training Loss: 0.5694\n",
      "Epoch: 92, Training Loss: 0.5563\n",
      "Epoch: 93, Training Loss: 0.5494\n",
      "Epoch: 94, Training Loss: 0.5637\n",
      "Epoch: 95, Training Loss: 0.5275\n",
      "Epoch: 96, Training Loss: 0.5365\n",
      "Epoch: 97, Training Loss: 0.5313\n",
      "Epoch: 98, Training Loss: 0.5364\n",
      "Epoch: 99, Training Loss: 0.5356\n",
      "Epoch: 100, Training Loss: 0.5305\n"
     ]
    }
   ]
  },
  {
   "cell_type": "code",
   "execution_count": 49,
   "outputs": [
    {
     "name": "stdout",
     "output_type": "stream",
     "text": [
      "torch.Size([4, 30, 132])\n",
      "predict: handwaving\n",
      "predict: handwaving\n",
      "predict: handwaving\n",
      "predict: handwaving\n",
      "ground truth: handwaving\n",
      "ground truth: handwaving\n",
      "ground truth: handwaving\n",
      "ground truth: walking\n",
      "torch.Size([4, 30, 132])\n",
      "predict: walking\n",
      "predict: walking\n",
      "predict: walking\n",
      "predict: walking\n",
      "ground truth: walking\n",
      "ground truth: walking\n",
      "ground truth: walking\n",
      "ground truth: walking\n"
     ]
    }
   ],
   "source": [
    "# 测试模型\n",
    "model.eval()\n",
    "for inputs, labels in test_loader:\n",
    "    inputs = inputs.to(torch.float32)\n",
    "    print(inputs.shape)\n",
    "    res = model(inputs)\n",
    "    for r in res:\n",
    "        print(\"predict: {}\".format(actions[np.argmax(r.detach().numpy())]))\n",
    "    for label in labels:\n",
    "        print(\"ground truth: {}\".format(actions[np.argmax(label.numpy())]))"
   ],
   "metadata": {
    "collapsed": false,
    "pycharm": {
     "name": "#%%\n"
    }
   }
  },
  {
   "cell_type": "code",
   "execution_count": 49,
   "outputs": [],
   "source": [],
   "metadata": {
    "collapsed": false,
    "pycharm": {
     "name": "#%%\n"
    }
   }
  }
 ]
}